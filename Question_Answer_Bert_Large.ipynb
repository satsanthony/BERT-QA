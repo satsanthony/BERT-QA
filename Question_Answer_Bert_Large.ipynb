{
  "nbformat": 4,
  "nbformat_minor": 0,
  "metadata": {
    "colab": {
      "name": "Copy of Question-Answer-Bert-Large.ipynb",
      "provenance": [],
      "collapsed_sections": []
    },
    "kernelspec": {
      "name": "python3",
      "display_name": "Python 3"
    },
    "accelerator": "GPU"
  },
  "cells": [
    {
      "cell_type": "code",
      "metadata": {
        "id": "IZa9-VSgZqoS"
      },
      "source": [
        "!pip install transformers"
      ],
      "execution_count": null,
      "outputs": []
    },
    {
      "cell_type": "code",
      "metadata": {
        "id": "E-jOB9FsabDl"
      },
      "source": [
        "#https://huggingface.co/deepset/bert-large-uncased-whole-word-masking-squad2\n",
        "from transformers import AutoTokenizer, AutoModelForQuestionAnswering"
      ],
      "execution_count": 2,
      "outputs": []
    },
    {
      "cell_type": "code",
      "metadata": {
        "id": "wHDfli-badvu"
      },
      "source": [
        "tokenizer = AutoTokenizer.from_pretrained(\"deepset/bert-large-uncased-whole-word-masking-squad2\")\n",
        "bert_model = AutoModelForQuestionAnswering.from_pretrained(\"deepset/bert-large-uncased-whole-word-masking-squad2\",return_dict=False)"
      ],
      "execution_count": null,
      "outputs": []
    },
    {
      "cell_type": "code",
      "metadata": {
        "id": "X5oz1z2abeg6"
      },
      "source": [
        "# Text obtained from Wikipedie.org\n",
        "question = \"Which models can be used for NLP related tasks?\"\n",
        "context = \"Many pretrained models such as GPT-3, GPT-2, BERT, XLNet, and RoBERTa demonstrate the ability of Transformers to perform a wide variety of such NLP-related tasks, and have the potential to find real-world applications\""
      ],
      "execution_count": 4,
      "outputs": []
    },
    {
      "cell_type": "markdown",
      "metadata": {
        "id": "B6a62kYxgzKC"
      },
      "source": [
        ""
      ]
    },
    {
      "cell_type": "code",
      "metadata": {
        "id": "UkjUDd7gcFx1",
        "outputId": "e6674d14-d91f-4a55-d8a7-1a40145c3514",
        "colab": {
          "base_uri": "https://localhost:8080/",
          "height": 34
        }
      },
      "source": [
        "# Determine the input ids for both question and context\n",
        "inputids = tokenizer.encode(question, context)\n",
        "print(f'The input tokens are {str(len(inputids))}')"
      ],
      "execution_count": 5,
      "outputs": [
        {
          "output_type": "stream",
          "text": [
            "The input tokens are 66\n"
          ],
          "name": "stdout"
        }
      ]
    },
    {
      "cell_type": "code",
      "metadata": {
        "id": "k0gHN_x3mBD0"
      },
      "source": [
        "# Using Bert Tokenizer tokenize the inputids and store in a dictionary S.\n",
        "tokenz = tokenizer.convert_ids_to_tokens(inputids)\n",
        "s={}\n",
        "for token, id in zip(tokenz, inputids):\n",
        "  s[token] = id"
      ],
      "execution_count": 6,
      "outputs": []
    },
    {
      "cell_type": "code",
      "metadata": {
        "id": "NDKpoWGwnwJn",
        "outputId": "cd91a639-33cc-4d60-dc1b-db8d63b6f9d5",
        "colab": {
          "base_uri": "https://localhost:8080/",
          "height": 54
        }
      },
      "source": [
        "# Display the dictionary that contains the tokens / embeddings for both question and context\n",
        "print(s)"
      ],
      "execution_count": 7,
      "outputs": [
        {
          "output_type": "stream",
          "text": [
            "{'[CLS]': 101, 'which': 2029, 'models': 4275, 'can': 2064, 'be': 2022, 'used': 2109, 'for': 2005, 'nl': 17953, '##p': 2361, 'related': 3141, 'tasks': 8518, '?': 1029, '[SEP]': 102, 'many': 2116, 'pre': 3653, '##train': 23654, '##ed': 2098, 'such': 2107, 'as': 2004, 'gp': 14246, '##t': 2102, '-': 1011, '3': 1017, ',': 1010, '2': 1016, 'bert': 14324, 'xl': 28712, '##net': 7159, 'and': 1998, 'roberta': 23455, 'demonstrate': 10580, 'the': 1996, 'ability': 3754, 'of': 1997, 'transformers': 19081, 'to': 2000, 'perform': 4685, 'a': 1037, 'wide': 2898, 'variety': 3528, 'have': 2031, 'potential': 4022, 'find': 2424, 'real': 2613, 'world': 2088, 'applications': 5097}\n"
          ],
          "name": "stdout"
        }
      ]
    },
    {
      "cell_type": "code",
      "metadata": {
        "id": "5XxBKX8Tqry5",
        "outputId": "d47d00d2-5213-4f59-9aee-ddbca9b63ca9",
        "colab": {
          "base_uri": "https://localhost:8080/",
          "height": 34
        }
      },
      "source": [
        "  # Use the bert_model to determine the answer\n",
        "  # We will be using pytorch. It comes with the Colab session\n",
        "  import torch\n",
        "\n",
        "  # search the inputids for the first instance of the '[SEP]' token.\n",
        "  sep_index = inputids.index(tokenizer.sep_token_id)\n",
        "\n",
        "# The number of segement A tokens include the [SEP] token itself.\n",
        "  typeA = sep_index + 1\n",
        "\n",
        "# The remainder are segment B\n",
        "  typeB = len(inputids) - typeA\n",
        "\n",
        "# The model's second parameter is Type_ids, build the list of 0s and 1s\n",
        "  Type_ids = [0]*typeA + [1]*typeB\n",
        "\n",
        "# capture the scores for the plots. Score1 is the start score and score2 is the end score\n",
        "  score1, score2 = bert_model(torch.tensor([inputids]), token_type_ids=torch.tensor([Type_ids]))\n",
        "\n",
        "# Obtaint the tokens for the final answer start and final answer end using argmax\n",
        "  final_answer = ' '.join(tokenz[torch.argmax(score1):torch.argmax(score2)+1])\n",
        "\n",
        "  print(f' The final answer is: {final_answer}')"
      ],
      "execution_count": 8,
      "outputs": [
        {
          "output_type": "stream",
          "text": [
            " The final answer is: gp ##t - 3 , gp ##t - 2 , bert , xl ##net , and roberta\n"
          ],
          "name": "stdout"
        }
      ]
    },
    {
      "cell_type": "markdown",
      "metadata": {
        "id": "soE9u60bLQ4M"
      },
      "source": [
        "**bold text** It correctly guessed the answer with sub-word ## above."
      ]
    },
    {
      "cell_type": "code",
      "metadata": {
        "id": "WYZw8lNcosWD",
        "outputId": "41f3a998-97b0-4495-d8ad-2e4cb01f9115",
        "colab": {
          "base_uri": "https://localhost:8080/",
          "height": 34
        }
      },
      "source": [
        "# Steps to remove the ## from the sub-word token\n",
        "first_token = tokenz[torch.argmax(score1)]\n",
        "\n",
        "for index in range(torch.argmax(score1) + 1, torch.argmax(score2) + 1):\n",
        "    \n",
        "    if tokenz[index][0:2] == '##':\n",
        "        first_token += tokenz[index][2:]\n",
        "    \n",
        "    else:\n",
        "        first_token += ' ' + tokenz[index]\n",
        "\n",
        "print('Meaningful Answer: \"' + first_token + '\"')"
      ],
      "execution_count": 9,
      "outputs": [
        {
          "output_type": "stream",
          "text": [
            "Meaningful Answer: \"gpt - 3 , gpt - 2 , bert , xlnet , and roberta\"\n"
          ],
          "name": "stdout"
        }
      ]
    },
    {
      "cell_type": "code",
      "metadata": {
        "id": "71kn0OBTKFvI"
      },
      "source": [
        "# To visualize the start and end answer tokens, create two new dictionaries\n",
        "# Flatten the scores from the model into a single dimension array\n",
        "s_scores = score1.detach().numpy().flatten()\n",
        "e_scores = score2.detach().numpy().flatten()\n",
        "start={}\n",
        "for token, id in zip(tokenz, s_scores):\n",
        "  start[token] = id\n",
        "end={}\n",
        "for token, id in zip(tokenz, e_scores):\n",
        "  end[token] = id"
      ],
      "execution_count": 11,
      "outputs": []
    },
    {
      "cell_type": "code",
      "metadata": {
        "id": "GqayLUSxN2nI",
        "outputId": "e441a518-8619-4bdc-d3a5-5b5409b125c4",
        "colab": {
          "base_uri": "https://localhost:8080/",
          "height": 289
        }
      },
      "source": [
        "# Plot a grouped bar chart to show the start to end output tokens\n",
        "import matplotlib\n",
        "import matplotlib.pyplot as plt\n",
        "import numpy as np\n",
        "\n",
        "labels = tokenz\n",
        "start_means = s_scores\n",
        "end_means = e_scores\n",
        "x = np.arange(len(labels))  # the label locations\n",
        "width = 0.35  # the width of the bars\n",
        "\n",
        "fig, ax = plt.subplots(figsize=(20, 5))\n",
        "rects1 = ax.bar(x - width/2, start_means, width, label='Start')\n",
        "rects2 = ax.bar(x + width/2, end_means, width, label='End')\n",
        "\n",
        "# Add some text for labels, title and custom x-axis tick labels, etc.\n",
        "ax.set_ylabel('Scores')\n",
        "ax.set_title(first_token)\n",
        "ax.set_xticks(x)\n",
        "ax.set_xticklabels(labels, rotation='vertical', ha='right')\n",
        "ax.legend()\n",
        "\n",
        "fig.tight_layout()\n",
        "\n",
        "plt.show()"
      ],
      "execution_count": 12,
      "outputs": [
        {
          "output_type": "display_data",
          "data": {
            "image/png": "[encoded data removed]",
            "text/plain": [
              "<Figure size 1440x360 with 1 Axes>"
            ]
          },
          "metadata": {
            "tags": [],
            "needs_background": "light"
          }
        }
      ]
    },
    {
      "cell_type": "code",
      "metadata": {
        "id": "cCw_VYv-m4gX"
      },
      "source": [
        "bert_abstract = 'The Broncos took an early lead in Super Bowl 50 and never trailed. Newton was limited by Denvers defense, which sacked him seven times and forced him into three turnovers, including a fumble which they recovered for a touchdown. Denver linebacker Von Miller was named Super Bowl MVP, recording five solo tackles, 2½ sacks, and two forced fumbles.'"
      ],
      "execution_count": 30,
      "outputs": []
    },
    {
      "cell_type": "code",
      "metadata": {
        "id": "h6UxFm98zw1x",
        "outputId": "6dce8210-b154-4de9-ff8b-b2e8e75b1c53",
        "colab": {
          "base_uri": "https://localhost:8080/",
          "height": 138
        }
      },
      "source": [
        "import textwrap\n",
        "\n",
        "dedented_text = textwrap.dedent(bert_abstract).strip()\n",
        "for width in [ 80 ]:\n",
        "        print('-'*80)\n",
        "        #print('%d Columns:\\n' % width)\n",
        "        print(textwrap.fill(dedented_text, width=width))\n",
        "        print('-'*80)"
      ],
      "execution_count": 57,
      "outputs": [
        {
          "output_type": "stream",
          "text": [
            "--------------------------------------------------------------------------------\n",
            "The Broncos took an early lead in Super Bowl 50 and never trailed. Newton was\n",
            "limited by Denvers defense, which sacked him seven times and forced him into\n",
            "three turnovers, including a fumble which they recovered for a touchdown. Denver\n",
            "linebacker Von Miller was named Super Bowl MVP, recording five solo tackles, 2½\n",
            "sacks, and two forced fumbles.\n",
            "--------------------------------------------------------------------------------\n"
          ],
          "name": "stdout"
        }
      ]
    },
    {
      "cell_type": "code",
      "metadata": {
        "id": "SJhrXf84kksF"
      },
      "source": [
        "# Create a function using code in line # 16 and then obtain the results below.\n",
        "def QandA(new_question, bert_abstract):\n",
        "  input_ids = tokenizer.encode(new_question, bert_abstract)\n",
        "  tokenz = tokenizer.convert_ids_to_tokens(input_ids)\n",
        "  sep_index = input_ids.index(tokenizer.sep_token_id)\n",
        "  A = sep_index + 1\n",
        "  B = len(input_ids) - A\n",
        "  Type_ids = [0]*A + [1]*B\n",
        "  score3, score4 = bert_model(torch.tensor([input_ids]), token_type_ids=torch.tensor([Type_ids]))\n",
        "  final_answer = ' '.join(tokenz[torch.argmax(score3):torch.argmax(score4)+1])\n",
        "  print(f' The final answer is: {final_answer}')\n"
      ],
      "execution_count": 58,
      "outputs": []
    },
    {
      "cell_type": "code",
      "metadata": {
        "id": "TyOnRDA90YOX",
        "outputId": "ce872b69-19d6-4513-88b9-ec15d348aa5e",
        "colab": {
          "base_uri": "https://localhost:8080/",
          "height": 34
        }
      },
      "source": [
        "new_question = \"Which city won the Super Bowl?\"\n",
        "QandA(new_question, bert_abstract)"
      ],
      "execution_count": 59,
      "outputs": [
        {
          "output_type": "stream",
          "text": [
            " The final answer is: denver\n"
          ],
          "name": "stdout"
        }
      ]
    },
    {
      "cell_type": "code",
      "metadata": {
        "id": "7NPM8JvOcsOj",
        "outputId": "cd757223-f558-49e2-9e4b-ad88da1d1785",
        "colab": {
          "base_uri": "https://localhost:8080/",
          "height": 34
        }
      },
      "source": [
        "new_question = \"Who won the Super Bowl?\"\n",
        "QandA(new_question, bert_abstract)"
      ],
      "execution_count": 60,
      "outputs": [
        {
          "output_type": "stream",
          "text": [
            " The final answer is: the broncos\n"
          ],
          "name": "stdout"
        }
      ]
    },
    {
      "cell_type": "code",
      "metadata": {
        "id": "8AwiAFwg0rJy",
        "outputId": "f1b2adc8-63fa-4eac-dca6-ac15de3929d8",
        "colab": {
          "base_uri": "https://localhost:8080/",
          "height": 34
        }
      },
      "source": [
        "new_question = \"Who became the MVP?\"\n",
        "QandA(new_question, bert_abstract)"
      ],
      "execution_count": 61,
      "outputs": [
        {
          "output_type": "stream",
          "text": [
            " The final answer is: von miller\n"
          ],
          "name": "stdout"
        }
      ]
    }
  ]
}
